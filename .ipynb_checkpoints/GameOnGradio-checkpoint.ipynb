{
 "cells": [
  {
   "cell_type": "code",
   "execution_count": null,
   "id": "d1d7da61-38c4-477d-ac34-89b3666a4e3a",
   "metadata": {},
   "outputs": [],
   "source": [
    "import gradio as gr\n",
    "import pandas as pd\n",
    "import numpy as np\n",
    "import re\n",
    "import itertools"
   ]
  },
  {
   "cell_type": "code",
   "execution_count": null,
   "id": "3fb5f5f3-eb2e-4a32-9192-e7d6ca9714e3",
   "metadata": {},
   "outputs": [],
   "source": [
    "df = pd.read_csv('./Visual data/game_load_data.csv')\n",
    "df.set_index(\"id\", inplace=True)\n",
    "df.head(5)"
   ]
  },
  {
   "cell_type": "code",
   "execution_count": null,
   "id": "b7c1420f-93b3-472f-9945-9e3bb5b25954",
   "metadata": {},
   "outputs": [],
   "source": []
  },
  {
   "cell_type": "code",
   "execution_count": null,
   "id": "2c1bf62c-0979-4b36-85f9-c4655a928e8a",
   "metadata": {},
   "outputs": [],
   "source": [
    "def recommender(year, rating, mode, genre, platform):    \n",
    "    df_mask1 = ((df['Release Year'] >= year) & (df['Score Rating'] >= rating) & (df[mode]>0) & (df[genre]>0)& (df[platform]>0))\n",
    "    recommend_df = df[df_mask1]    \n",
    "    recommend_df = recommend_df[['name', 'Release Year', 'Score Rating']]\n",
    "    recommend_df = recommend_df.sort_values(by=['Score Rating'], ascending=False)\n",
    "    return recommend_df"
   ]
  },
  {
   "cell_type": "code",
   "execution_count": null,
   "id": "0137c4fd-ac48-4e4a-8fa2-fd8e5c47f6fd",
   "metadata": {},
   "outputs": [],
   "source": [
    "years_sorted = sorted(list(df['Release Year'].unique()))\n",
    "year = gr.inputs.Slider(int(years_sorted[0]), int(years_sorted[-1]),step=int(1))\n",
    "rating = gr.inputs.Slider(minimum = 75, maximum = 100)\n",
    "mode = gr.inputs.Radio(['Single player', 'Battle Royale', 'Co-operative', 'Massively Multiplayer Online (MMO)', 'Multiplayer', 'Split screen'])\n",
    "genre = gr.inputs.Dropdown(['Adventure', 'Arcade', 'Card & Board Game',\n",
    "  'Fighting', \"Hack and slash/Beat 'em up\", 'Indie', 'Music', 'Pinball', 'Platform', 'Point-and-click',\n",
    "  'Puzzle', 'Quiz/Trivia', 'Racing', 'Real Time Strategy (RTS)', 'Role-playing (RPG)', 'Shooter',\n",
    "  'Simulator', 'Sport', 'Strategy', 'Tactical', 'Turn-based strategy (TBS)', 'Visual Novel'])\n",
    "platform = gr.inputs.Dropdown(['3DO Interactive Multiplayer', 'Acorn Archimedes', 'Acorn Electron', 'Amazon Fire TV', 'Amiga',\n",
    "  'Amiga CD32', 'Amstrad CPC', 'Android', 'Apple II', 'Apple IIGS', 'Arcade Platform', 'Atari 2600',\n",
    "  'Atari 8-bit', 'Atari Jaguar', 'Atari Lynx', 'Atari ST/STE', 'BBC Microcomputer System', 'BlackBerry OS',\n",
    "  'ColecoVision', 'Commodore 16', 'Commodore C64/128', 'Commodore VIC-20', 'DUPLICATE Stadia', 'DVD Player',\n",
    "  'Daydream', 'Donner Model 30', 'Dragon 32/64', 'Dreamcast', 'FM Towns', 'FM-7', 'Family Computer',\n",
    "  'Family Computer Disk System', 'Game Boy', 'Game Boy Advance', 'Game Boy Color', 'Gear VR',\n",
    "  'Google Stadia', 'Intellivision', 'Legacy Mobile Device', 'Linux', 'MSX', 'MSX2', 'Mac', 'N-Gage',\n",
    "  'NEC PC-6000 Series', 'Neo Geo AES', 'Neo Geo CD', 'Neo Geo MVS', 'New Nintendo 3DS', 'Nintendo 3DS',\n",
    "  'Nintendo 64', 'Nintendo DS', 'Nintendo DSi', 'Nintendo Entertainment System (NES)', 'Nintendo GameCube',\n",
    "  'Nintendo Switch', 'OOParts', 'Oculus Quest', 'Oculus Quest 2', 'Oculus Rift', 'Oculus VR',\n",
    "  'OnLive Game System', 'Ouya', 'PC (Microsoft Windows)', 'PC DOS', 'PC-8801', 'PC-98', 'PlayStation',\n",
    "  'PlayStation 2', 'PlayStation 3', 'PlayStation 4', 'PlayStation 5', 'PlayStation Portable',\n",
    "  'PlayStation VR', 'PlayStation Vita', 'S', 'Satellaview', 'Sega CD', 'Sega Game Gear',\n",
    "  'Sega Master System', 'Sega Mega Drive/Genesis', 'Sega Saturn', 'Sharp X1', 'Sharp X68000', 'SteamVR',\n",
    "  'Super Famicom', 'Super Nintendo Entertainment System (SNES)', 'Tapwave Zodiac', 'Tatung Einstein',\n",
    "  'TurboGrafx-16/PC Engine', 'Turbografx-16/PC Engine CD', 'Web browser', 'Wii', 'Wii U',\n",
    "  'Windows Mixed Reality', 'Windows Phone', 'WonderSwan', 'WonderSwan Color', 'Xbox', 'Xbox 360',\n",
    "  'Xbox One', 'Xbox Series X', 'ZX Spectrum', 'iOS'])\n",
    "\n",
    "\n",
    "recommend = gr.Interface (recommender, [year, rating, mode, genre, platform], 'dataframe')\n",
    "\n",
    "recommend.launch(debug=True)"
   ]
  },
  {
   "cell_type": "code",
   "execution_count": null,
   "id": "e2255e0d-b6af-4956-ab9e-8544dfdf3639",
   "metadata": {},
   "outputs": [],
   "source": []
  },
  {
   "cell_type": "code",
   "execution_count": null,
   "id": "676c3960-a586-415e-a944-b8bd993f437e",
   "metadata": {},
   "outputs": [],
   "source": []
  },
  {
   "cell_type": "code",
   "execution_count": null,
   "id": "69bca337-24e3-45b6-b5e8-f58d102355bf",
   "metadata": {},
   "outputs": [],
   "source": []
  }
 ],
 "metadata": {
  "kernelspec": {
   "display_name": "Python 3 (ipykernel)",
   "language": "python",
   "name": "python3"
  },
  "language_info": {
   "codemirror_mode": {
    "name": "ipython",
    "version": 3
   },
   "file_extension": ".py",
   "mimetype": "text/x-python",
   "name": "python",
   "nbconvert_exporter": "python",
   "pygments_lexer": "ipython3",
   "version": "3.8.13"
  }
 },
 "nbformat": 4,
 "nbformat_minor": 5
}
