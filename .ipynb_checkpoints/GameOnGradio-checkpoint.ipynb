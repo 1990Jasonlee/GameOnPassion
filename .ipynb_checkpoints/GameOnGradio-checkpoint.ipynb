{
 "cells": [
  {
   "cell_type": "code",
   "execution_count": null,
   "id": "d1d7da61-38c4-477d-ac34-89b3666a4e3a",
   "metadata": {},
   "outputs": [],
   "source": [
    "import gradio as gr\n",
    "import pandas as pd\n",
    "import numpy as np\n",
    "import re\n",
    "import itertools"
   ]
  },
  {
   "cell_type": "code",
   "execution_count": null,
   "id": "3fb5f5f3-eb2e-4a32-9192-e7d6ca9714e3",
   "metadata": {},
   "outputs": [],
   "source": [
    "df = pd.read_csv('./Visual data/game_load_data.csv')\n",
    "df.set_index(\"id\", inplace=True)\n",
    "df.head(5)"
   ]
  },
  {
   "cell_type": "code",
   "execution_count": null,
   "id": "b7c1420f-93b3-472f-9945-9e3bb5b25954",
   "metadata": {},
   "outputs": [],
   "source": [
    "# def year(index):\n",
    "#     return df[df.index == index]['Release Year'].values[0]\n",
    "\n",
    "# def score(index):\n",
    "#     return df[df.index == index]['Score Rating'].values[0]"
   ]
  },
  {
   "cell_type": "code",
   "execution_count": null,
   "id": "2c1bf62c-0979-4b36-85f9-c4655a928e8a",
   "metadata": {},
   "outputs": [],
   "source": [
    "def recommender(year):    \n",
    "    df_mask1 = (df['Release Year'] >= year)\n",
    "    recommend_df = df[df_mask1]    \n",
    "    recommend_df = recommend_df[['name', 'Release Year', 'Score Rating', 'summary']]\n",
    "    recommend_df"
   ]
  },
  {
   "cell_type": "code",
   "execution_count": null,
   "id": "0137c4fd-ac48-4e4a-8fa2-fd8e5c47f6fd",
   "metadata": {},
   "outputs": [],
   "source": [
    "years_sorted = sorted(list(df['Release Year'].unique()))\n",
    "\n",
    "dropdown = gr.Interface (recommender,\n",
    "[gr.inputs.Slider(int(years_sorted[0]), int(years_sorted[-1]),step=int(1))], 'dataframe')\n",
    "dropdown.launch(debug=True)"
   ]
  },
  {
   "cell_type": "code",
   "execution_count": null,
   "id": "e2255e0d-b6af-4956-ab9e-8544dfdf3639",
   "metadata": {},
   "outputs": [],
   "source": [
    "#, gr.inputs.Slider(75, 100, step = 1)"
   ]
  }
 ],
 "metadata": {
  "kernelspec": {
   "display_name": "Python 3 (ipykernel)",
   "language": "python",
   "name": "python3"
  },
  "language_info": {
   "codemirror_mode": {
    "name": "ipython",
    "version": 3
   },
   "file_extension": ".py",
   "mimetype": "text/x-python",
   "name": "python",
   "nbconvert_exporter": "python",
   "pygments_lexer": "ipython3",
   "version": "3.8.13"
  }
 },
 "nbformat": 4,
 "nbformat_minor": 5
}
