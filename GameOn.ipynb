{
 "cells": [
  {
   "cell_type": "code",
   "execution_count": 1,
   "id": "d923afa9-3494-4fd6-84a5-83d98dd46c9d",
   "metadata": {},
   "outputs": [],
   "source": [
    "import pandas as pd\n",
    "import numpy as np"
   ]
  },
  {
   "cell_type": "code",
   "execution_count": 21,
   "id": "9d4f621f-d799-48d8-b625-6268a6e87e73",
   "metadata": {},
   "outputs": [],
   "source": [
    "df = pd.read_csv('./Data/games.csv')\n",
    "df.columns = ['ID', 'Name', 'Rating']\n",
    "df.set_index('ID', inplace=True)"
   ]
  },
  {
   "cell_type": "code",
   "execution_count": 20,
   "id": "bd6502fd-f280-49c6-abbe-43bb94b2166e",
   "metadata": {},
   "outputs": [
    {
     "data": {
      "text/html": [
       "<div>\n",
       "<style scoped>\n",
       "    .dataframe tbody tr th:only-of-type {\n",
       "        vertical-align: middle;\n",
       "    }\n",
       "\n",
       "    .dataframe tbody tr th {\n",
       "        vertical-align: top;\n",
       "    }\n",
       "\n",
       "    .dataframe thead th {\n",
       "        text-align: right;\n",
       "    }\n",
       "</style>\n",
       "<table border=\"1\" class=\"dataframe\">\n",
       "  <thead>\n",
       "    <tr style=\"text-align: right;\">\n",
       "      <th></th>\n",
       "      <th>Name</th>\n",
       "      <th>Rating</th>\n",
       "    </tr>\n",
       "    <tr>\n",
       "      <th>ID</th>\n",
       "      <th></th>\n",
       "      <th></th>\n",
       "    </tr>\n",
       "  </thead>\n",
       "  <tbody>\n",
       "    <tr>\n",
       "      <th>2</th>\n",
       "      <td>Thief: The Dark Project</td>\n",
       "      <td>86.300971</td>\n",
       "    </tr>\n",
       "    <tr>\n",
       "      <th>3</th>\n",
       "      <td>Thief: Deadly Shadows</td>\n",
       "      <td>82.529350</td>\n",
       "    </tr>\n",
       "    <tr>\n",
       "      <th>4</th>\n",
       "      <td>Thief</td>\n",
       "      <td>69.783356</td>\n",
       "    </tr>\n",
       "    <tr>\n",
       "      <th>5</th>\n",
       "      <td>Baldur's Gate</td>\n",
       "      <td>86.813896</td>\n",
       "    </tr>\n",
       "    <tr>\n",
       "      <th>6</th>\n",
       "      <td>Baldur's Gate II: Shadows of Amn</td>\n",
       "      <td>89.131339</td>\n",
       "    </tr>\n",
       "    <tr>\n",
       "      <th>...</th>\n",
       "      <td>...</td>\n",
       "      <td>...</td>\n",
       "    </tr>\n",
       "    <tr>\n",
       "      <th>1197</th>\n",
       "      <td>Crash Bandicoot: The Huge Adventure</td>\n",
       "      <td>68.685021</td>\n",
       "    </tr>\n",
       "    <tr>\n",
       "      <th>1198</th>\n",
       "      <td>Crash Bandicoot 2: N-Tranced</td>\n",
       "      <td>73.711998</td>\n",
       "    </tr>\n",
       "    <tr>\n",
       "      <th>1199</th>\n",
       "      <td>Crash Bandicoot Purple: Ripto's Rampage</td>\n",
       "      <td>56.936446</td>\n",
       "    </tr>\n",
       "    <tr>\n",
       "      <th>1200</th>\n",
       "      <td>Tales of Phantasia</td>\n",
       "      <td>86.669025</td>\n",
       "    </tr>\n",
       "    <tr>\n",
       "      <th>1201</th>\n",
       "      <td>Tales of Destiny</td>\n",
       "      <td>82.961720</td>\n",
       "    </tr>\n",
       "  </tbody>\n",
       "</table>\n",
       "<p>999 rows × 2 columns</p>\n",
       "</div>"
      ],
      "text/plain": [
       "                                         Name     Rating\n",
       "ID                                                      \n",
       "2                     Thief: The Dark Project  86.300971\n",
       "3                       Thief: Deadly Shadows  82.529350\n",
       "4                                       Thief  69.783356\n",
       "5                               Baldur's Gate  86.813896\n",
       "6            Baldur's Gate II: Shadows of Amn  89.131339\n",
       "...                                       ...        ...\n",
       "1197      Crash Bandicoot: The Huge Adventure  68.685021\n",
       "1198             Crash Bandicoot 2: N-Tranced  73.711998\n",
       "1199  Crash Bandicoot Purple: Ripto's Rampage  56.936446\n",
       "1200                       Tales of Phantasia  86.669025\n",
       "1201                         Tales of Destiny  82.961720\n",
       "\n",
       "[999 rows x 2 columns]"
      ]
     },
     "execution_count": 20,
     "metadata": {},
     "output_type": "execute_result"
    }
   ],
   "source": [
    "df"
   ]
  },
  {
   "cell_type": "code",
   "execution_count": null,
   "id": "24874509-ed92-4b30-a150-4926674ac087",
   "metadata": {},
   "outputs": [],
   "source": []
  }
 ],
 "metadata": {
  "kernelspec": {
   "display_name": "Python 3 (ipykernel)",
   "language": "python",
   "name": "python3"
  },
  "language_info": {
   "codemirror_mode": {
    "name": "ipython",
    "version": 3
   },
   "file_extension": ".py",
   "mimetype": "text/x-python",
   "name": "python",
   "nbconvert_exporter": "python",
   "pygments_lexer": "ipython3",
   "version": "3.8.13"
  }
 },
 "nbformat": 4,
 "nbformat_minor": 5
}
